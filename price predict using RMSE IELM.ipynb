{
 "cells": [
  {
   "cell_type": "markdown",
   "metadata": {},
   "source": [
    "## Regression to predict the price of house using Incremental Extreme Machine Learning"
   ]
  },
  {
   "cell_type": "code",
   "execution_count": 1,
   "metadata": {},
   "outputs": [
    {
     "name": "stderr",
     "output_type": "stream",
     "text": [
      "Using TensorFlow backend.\n"
     ]
    }
   ],
   "source": [
    "import pandas as pd\n",
    "import numpy as np\n",
    "import matplotlib.pyplot as plt\n",
    "import keras\n",
    "import math\n",
    "from keras.models import Sequential\n",
    "from keras.datasets import mnist\n",
    "from keras.layers import Dense\n",
    "from keras.optimizers import Adam\n",
    "import random\n",
    "import keras\n",
    "import keras.utils\n",
    "from keras.utils.np_utils import to_categorical \n",
    "from keras import utils as np_utils\n",
    "from sklearn.preprocessing import OneHotEncoder \n",
    "from sklearn.metrics import accuracy_score\n",
    "import time\n",
    "from sklearn.metrics import mean_squared_error\n",
    "\n",
    "import statistics\n",
    "\n"
   ]
  },
  {
   "cell_type": "code",
   "execution_count": 2,
   "metadata": {
    "scrolled": true
   },
   "outputs": [
    {
     "name": "stdout",
     "output_type": "stream",
     "text": [
      "          price  bedrooms  bathrooms  sqft_living  sqft_lot  floors  \\\n",
      "0      221900.0         3       1.00         1180      5650     1.0   \n",
      "1      538000.0         3       2.25         2570      7242     2.0   \n",
      "2      180000.0         2       1.00          770     10000     1.0   \n",
      "3      604000.0         4       3.00         1960      5000     1.0   \n",
      "4      510000.0         3       2.00         1680      8080     1.0   \n",
      "...         ...       ...        ...          ...       ...     ...   \n",
      "21608  360000.0         3       2.50         1530      1131     3.0   \n",
      "21609  400000.0         4       2.50         2310      5813     2.0   \n",
      "21610  402101.0         2       0.75         1020      1350     2.0   \n",
      "21611  400000.0         3       2.50         1600      2388     2.0   \n",
      "21612  325000.0         2       0.75         1020      1076     2.0   \n",
      "\n",
      "       waterfront  view  condition  grade  sqft_above  sqft_basement  \\\n",
      "0               0     0          3      7        1180              0   \n",
      "1               0     0          3      7        2170            400   \n",
      "2               0     0          3      6         770              0   \n",
      "3               0     0          5      7        1050            910   \n",
      "4               0     0          3      8        1680              0   \n",
      "...           ...   ...        ...    ...         ...            ...   \n",
      "21608           0     0          3      8        1530              0   \n",
      "21609           0     0          3      8        2310              0   \n",
      "21610           0     0          3      7        1020              0   \n",
      "21611           0     0          3      8        1600              0   \n",
      "21612           0     0          3      7        1020              0   \n",
      "\n",
      "       yr_built  yr_renovated  zipcode      lat     long  sqft_living15  \\\n",
      "0          1955             0    98178  47.5112 -122.257           1340   \n",
      "1          1951          1991    98125  47.7210 -122.319           1690   \n",
      "2          1933             0    98028  47.7379 -122.233           2720   \n",
      "3          1965             0    98136  47.5208 -122.393           1360   \n",
      "4          1987             0    98074  47.6168 -122.045           1800   \n",
      "...         ...           ...      ...      ...      ...            ...   \n",
      "21608      2009             0    98103  47.6993 -122.346           1530   \n",
      "21609      2014             0    98146  47.5107 -122.362           1830   \n",
      "21610      2009             0    98144  47.5944 -122.299           1020   \n",
      "21611      2004             0    98027  47.5345 -122.069           1410   \n",
      "21612      2008             0    98144  47.5941 -122.299           1020   \n",
      "\n",
      "       sqft_lot15  \n",
      "0            5650  \n",
      "1            7639  \n",
      "2            8062  \n",
      "3            5000  \n",
      "4            7503  \n",
      "...           ...  \n",
      "21608        1509  \n",
      "21609        7200  \n",
      "21610        2007  \n",
      "21611        1287  \n",
      "21612        1357  \n",
      "\n",
      "[21613 rows x 19 columns]\n"
     ]
    }
   ],
   "source": [
    "df = pd.read_csv('kc_house_data.csv') \n",
    "print (df)"
   ]
  },
  {
   "cell_type": "code",
   "execution_count": 3,
   "metadata": {},
   "outputs": [
    {
     "name": "stdout",
     "output_type": "stream",
     "text": [
      "<class 'pandas.core.frame.DataFrame'>\n",
      "<class 'pandas.core.frame.DataFrame'>\n",
      "          price\n",
      "0      221900.0\n",
      "1      538000.0\n",
      "2      180000.0\n",
      "3      604000.0\n",
      "4      510000.0\n",
      "...         ...\n",
      "21608  360000.0\n",
      "21609  400000.0\n",
      "21610  402101.0\n",
      "21611  400000.0\n",
      "21612  325000.0\n",
      "\n",
      "[21613 rows x 1 columns]\n"
     ]
    }
   ],
   "source": [
    "total_train = df.drop(columns=\"price\")#-----------------------to guess the condition of the house\n",
    "a = df.iloc[:, 0]\n",
    "total_labels = pd.DataFrame(a)\n",
    "print(type(total_train))\n",
    "print(type(total_labels))\n",
    "print(total_labels)\n",
    "\n",
    "\n",
    "start = time.time()\n",
    "\n"
   ]
  },
  {
   "cell_type": "code",
   "execution_count": 4,
   "metadata": {},
   "outputs": [],
   "source": [
    "x_train = total_train.loc[0:10000, :]\n",
    "y_labels = total_labels.loc[0:10000, :]\n",
    "\n",
    "x_test = total_train.loc[10001:20000, :]\n",
    "y_test_labels = total_labels.loc[10001:20000, :]\n"
   ]
  },
  {
   "cell_type": "code",
   "execution_count": 5,
   "metadata": {},
   "outputs": [
    {
     "name": "stdout",
     "output_type": "stream",
     "text": [
      "       bedrooms  bathrooms  sqft_living  sqft_lot  floors  waterfront  view  \\\n",
      "10001         5       3.25         3160     10587     1.0           0     0   \n",
      "10002         3       1.50         2020     11358     1.0           0     0   \n",
      "10003         4       3.75         3210      7054     2.0           0     0   \n",
      "10004         3       2.25         2350     51400     1.0           0     0   \n",
      "10005         4       2.50         1910     10221     2.0           0     0   \n",
      "...         ...        ...          ...       ...     ...         ...   ...   \n",
      "19996         3       2.25         1530      1305     2.0           0     0   \n",
      "19997         3       2.50         1600      6315     2.0           0     0   \n",
      "19998         2       1.50         1000      1251     2.0           0     0   \n",
      "19999         4       3.50         2440      3012     3.0           0     1   \n",
      "20000         3       2.50         1260      1102     3.0           0     0   \n",
      "\n",
      "       condition  grade  sqft_above  sqft_basement  yr_built  yr_renovated  \\\n",
      "10001          5      7        2190            970      1960             0   \n",
      "10002          4      6        1190            830      1956             0   \n",
      "10003          4      8        3210              0      1985             0   \n",
      "10004          3      7        1390            960      1977             0   \n",
      "10005          3      8        1910              0      1994             0   \n",
      "...          ...    ...         ...            ...       ...           ...   \n",
      "19996          3      7        1116            414      2007             0   \n",
      "19997          3      8        1600              0      2013             0   \n",
      "19998          3      7         930             70      2006             0   \n",
      "19999          3      8        2440              0      2005             0   \n",
      "20000          3      8        1260              0      2007             0   \n",
      "\n",
      "       zipcode      lat     long  sqft_living15  sqft_lot15  \n",
      "10001    98034  47.7238 -122.165           2200        7761  \n",
      "10002    98033  47.6641 -122.185           2370        9520  \n",
      "10003    98052  47.7268 -122.103           2350        8020  \n",
      "10004    98077  47.7417 -122.053           2350       51400  \n",
      "10005    98038  47.3810 -122.035           2210        8705  \n",
      "...        ...      ...      ...            ...         ...  \n",
      "19996    98177  47.7034 -122.357           1320        1427  \n",
      "19997    98092  47.2611 -122.198           1608        4300  \n",
      "19998    98199  47.6529 -122.384           1420        1187  \n",
      "19999    98117  47.6923 -122.392           1860        4650  \n",
      "20000    98107  47.6750 -122.387           1320        2500  \n",
      "\n",
      "[10000 rows x 18 columns]\n"
     ]
    }
   ],
   "source": [
    "print(x_test)"
   ]
  },
  {
   "cell_type": "code",
   "execution_count": 6,
   "metadata": {},
   "outputs": [],
   "source": [
    "X = (x_train, y_labels)\n",
    "Y = (x_test, y_test_labels)"
   ]
  },
  {
   "cell_type": "code",
   "execution_count": 7,
   "metadata": {},
   "outputs": [
    {
     "name": "stdout",
     "output_type": "stream",
     "text": [
      "       bedrooms  bathrooms  sqft_living  sqft_lot  floors  waterfront  view  \\\n",
      "0             3       1.00         1180      5650     1.0           0     0   \n",
      "1             3       2.25         2570      7242     2.0           0     0   \n",
      "2             2       1.00          770     10000     1.0           0     0   \n",
      "3             4       3.00         1960      5000     1.0           0     0   \n",
      "4             3       2.00         1680      8080     1.0           0     0   \n",
      "...         ...        ...          ...       ...     ...         ...   ...   \n",
      "9996          3       1.50         1700      9579     1.0           0     0   \n",
      "9997          4       1.00         1550      4750     1.5           0     0   \n",
      "9998          3       1.75         1680      8100     1.0           0     2   \n",
      "9999          3       2.25         1680     35127     2.0           0     0   \n",
      "10000         4       2.50         1910     10300     1.0           0     0   \n",
      "\n",
      "       condition  grade  sqft_above  sqft_basement  yr_built  yr_renovated  \\\n",
      "0              3      7        1180              0      1955             0   \n",
      "1              3      7        2170            400      1951          1991   \n",
      "2              3      6         770              0      1933             0   \n",
      "3              5      7        1050            910      1965             0   \n",
      "4              3      8        1680              0      1987             0   \n",
      "...          ...    ...         ...            ...       ...           ...   \n",
      "9996           4      7        1100            600      1962             0   \n",
      "9997           3      7        1550              0      1919             0   \n",
      "9998           3      8        1680              0      1950             0   \n",
      "9999           3      7        1680              0      1987             0   \n",
      "10000          3      8        1910              0      1921          1968   \n",
      "\n",
      "       zipcode      lat     long  sqft_living15  sqft_lot15  \n",
      "0        98178  47.5112 -122.257           1340        5650  \n",
      "1        98125  47.7210 -122.319           1690        7639  \n",
      "2        98028  47.7379 -122.233           2720        8062  \n",
      "3        98136  47.5208 -122.393           1360        5000  \n",
      "4        98074  47.6168 -122.045           1800        7503  \n",
      "...        ...      ...      ...            ...         ...  \n",
      "9996     98023  47.3209 -122.338           1700        9628  \n",
      "9997     98117  47.6824 -122.389           1320        4750  \n",
      "9998     98177  47.7212 -122.364           1880        7750  \n",
      "9999     98092  47.3025 -122.067           1820       35166  \n",
      "10000    98177  47.7581 -122.359           1910        7750  \n",
      "\n",
      "[10001 rows x 18 columns]\n"
     ]
    }
   ],
   "source": [
    "print(x_train)"
   ]
  },
  {
   "cell_type": "code",
   "execution_count": 8,
   "metadata": {},
   "outputs": [
    {
     "name": "stdout",
     "output_type": "stream",
     "text": [
      "(10001, 18)\n"
     ]
    }
   ],
   "source": [
    "x_train=pd.DataFrame(x_train).to_numpy()\n",
    "\n",
    "#w = np.random.rand(18,1000)*100#------------------------------creating random weight matrix== features X num_neuron #nearon should be greater than feature\n",
    "#weights = pd.DataFrame(w)\n",
    "\n",
    "#weights =to_numpy.DataFrame(w)\n",
    "#weights=pd.DataFrame(weights).to_numpy()\n",
    "\n",
    "#weights_transpose = np.transpose(weights)\n",
    "#print(weights.shape)\n",
    "print(x_train.shape)\n",
    "#print(type(weights))\n",
    "#print(type(x_train))\n",
    "\n",
    "y_labels=pd.DataFrame(y_labels).to_numpy()"
   ]
  },
  {
   "cell_type": "code",
   "execution_count": null,
   "metadata": {},
   "outputs": [],
   "source": [
    " \n",
    "\n"
   ]
  },
  {
   "cell_type": "code",
   "execution_count": 9,
   "metadata": {},
   "outputs": [
    {
     "name": "stdout",
     "output_type": "stream",
     "text": [
      "[[ 3.00000e+00  1.00000e+00  1.18000e+03 ... -1.22257e+02  1.34000e+03\n",
      "   5.65000e+03]\n",
      " [ 3.00000e+00  2.25000e+00  2.57000e+03 ... -1.22319e+02  1.69000e+03\n",
      "   7.63900e+03]\n",
      " [ 2.00000e+00  1.00000e+00  7.70000e+02 ... -1.22233e+02  2.72000e+03\n",
      "   8.06200e+03]\n",
      " ...\n",
      " [ 3.00000e+00  1.75000e+00  1.68000e+03 ... -1.22364e+02  1.88000e+03\n",
      "   7.75000e+03]\n",
      " [ 3.00000e+00  2.25000e+00  1.68000e+03 ... -1.22067e+02  1.82000e+03\n",
      "   3.51660e+04]\n",
      " [ 4.00000e+00  2.50000e+00  1.91000e+03 ... -1.22359e+02  1.91000e+03\n",
      "   7.75000e+03]]\n"
     ]
    }
   ],
   "source": [
    "print(x_train)"
   ]
  },
  {
   "cell_type": "code",
   "execution_count": 21,
   "metadata": {},
   "outputs": [
    {
     "name": "stdout",
     "output_type": "stream",
     "text": [
      "RMSE 0 65.3187934906508\n",
      "RMSE 1 58.59238919015065\n",
      "RMSE 2 38.14558851827319\n",
      "RMSE 3 37.68989053431443\n",
      "RMSE 4 26.692054763073475\n",
      "RMSE 5 26.616501627450887\n",
      "RMSE 6 26.5393831050097\n",
      "RMSE 7 25.954065728475634\n",
      "RMSE 8 25.613605014950217\n",
      "RMSE 9 24.65734693954081\n",
      "RMSE 10 23.745741270183125\n",
      "RMSE 11 23.041154691045442\n",
      "RMSE 12 22.670759022773435\n",
      "RMSE 13 22.677096144179103\n",
      "RMSE 14 22.022490048761114\n",
      "RMSE 15 21.975676470442103\n",
      "RMSE 16 21.471165237021943\n",
      "RMSE 17 20.80337475941956\n",
      "RMSE 18 20.80337479162249\n",
      "RMSE 19 20.80337478474516\n",
      "RMSE 20 20.80337478474516\n",
      "RMSE 21 20.80337478072643\n",
      "RMSE 22 20.80337478474516\n",
      "RMSE 23 20.803374781921402\n",
      "RMSE 24 20.803374790262605\n",
      "RMSE 25 20.803374790262605\n",
      "RMSE 26 20.803374790262605\n",
      "RMSE 27 20.80337478474516\n",
      "RMSE 28 20.80337478474516\n",
      "RMSE 29 20.80337478474516\n",
      "RMSE 30 20.80337479308636\n",
      "RMSE 31 20.803374790262605\n",
      "RMSE 32 20.80337478474516\n",
      "RMSE 33 20.80337479308636\n",
      "RMSE 34 20.80337479308636\n",
      "RMSE 35 20.80337478474516\n",
      "RMSE 36 20.80337479308636\n",
      "RMSE 37 20.80337478474516\n",
      "RMSE 38 20.80337478474516\n",
      "RMSE 39 20.803374790262605\n",
      "RMSE 40 20.80337478474516\n",
      "RMSE 41 20.80337478474516\n",
      "RMSE 42 20.80337478474516\n",
      "RMSE 43 20.80337478474516\n",
      "RMSE 44 20.80337479308636\n",
      "RMSE 45 20.80337478474516\n",
      "RMSE 46 20.80337479308636\n",
      "RMSE 47 20.80337478474516\n",
      "RMSE 48 20.80337478474516\n",
      "RMSE 49 20.80337479308636\n",
      "Time elapsed 0.992955207824707\n"
     ]
    }
   ],
   "source": [
    "start = time.time()\n",
    "l=0\n",
    "acc=0\n",
    "l_max=50#-------------------------------------------------------------setting up number neurons\n",
    "beta=0\n",
    "error=0\n",
    "rmse=0\n",
    "final=0.1\n",
    "d=0\n",
    "p=0\n",
    "\n",
    "for i in range(l_max):\n",
    "    \n",
    "    \n",
    "\n",
    "     \n",
    "    \n",
    "    if(final>0.00005):\n",
    "        w = np.random.rand(18,i)*100#------------------------------creating random weight matrix== features X num_neuron #nearon should be greater than feature\n",
    "        weights = pd.DataFrame(w)\n",
    "\n",
    "        #weights =to_numpy.DataFrame(w)\n",
    "        weights=pd.DataFrame(weights).to_numpy()\n",
    "\n",
    "        weights_transpose = np.transpose(weights)#-------------------transposing weight\n",
    "        h_new = np.dot(x_train,weights)\n",
    "        h_inv = np.linalg.pinv(h_new)\n",
    "    \n",
    "        beta = np.dot(h_inv, y_labels)\n",
    "    #print(beta.shape)\n",
    "    #print(h_new.shape)\n",
    "        predicted_output = np.dot(h_new,beta)\n",
    "        rounded_labels=np.round(predicted_output)\n",
    "        rounded=pd.DataFrame(rounded_labels).to_numpy()\n",
    "        #rmse = rmse + ((y_labels[i] - predicted_output[i])**2)\n",
    "        #if(i==0):\n",
    "            #i=i+1\n",
    "        #rmse1=math.sqrt((1/i)*rmse)\n",
    "        #print(rmse1)\n",
    "        \n",
    "        d = mean_squared_error(y_labels, rounded)\n",
    "        rmse=1/10000*(math.sqrt(d))\n",
    "        print(\"RMSE\", + i, + rmse)\n",
    "        \n",
    "        \n",
    "    #print(predicted_output.shape)\n",
    "\n",
    "\n",
    "        \n",
    "   # print(predicted_output[i][:])    \n",
    "   # print(predicted_output.shape)  \n",
    "        #print(y_train)\n",
    "    \n",
    "   # print(\"p\",+ rounded)\n",
    "    #print(type(predicted_output))\n",
    "    \n",
    "    #print(\"y\",+rounded)\n",
    "   \n",
    "end = time.time()\n",
    "print(\"Time elapsed\",end - start)    \n",
    "    #print(h_inv.shape)\n",
    "    #print(h_new.shape)\n",
    "    #print(beta)\n",
    "    #print(weights.shape)\n",
    "#print(error[1][9])"
   ]
  },
  {
   "cell_type": "code",
   "execution_count": null,
   "metadata": {},
   "outputs": [],
   "source": [
    "\n",
    "#h_inv = np.linalg.pinv(h_new)\n",
    "#print(h_inv.shape)"
   ]
  },
  {
   "cell_type": "code",
   "execution_count": null,
   "metadata": {},
   "outputs": [],
   "source": [
    "#beta = np.dot(h_inv, y_labels)"
   ]
  },
  {
   "cell_type": "code",
   "execution_count": null,
   "metadata": {},
   "outputs": [],
   "source": [
    "#print(beta)"
   ]
  },
  {
   "cell_type": "code",
   "execution_count": null,
   "metadata": {},
   "outputs": [],
   "source": [
    "#predicted_output= np.dot(h_new, beta) #----------------------------------------------------predicting value \n",
    "#print(predicted_output.shape)"
   ]
  },
  {
   "cell_type": "code",
   "execution_count": null,
   "metadata": {},
   "outputs": [],
   "source": [
    "#print(np.round(predicted_output))\n",
    "#rounded_labels=np.round(predicted_output)\n",
    "#rounded=pd.DataFrame(rounded_labels).to_numpy()\n",
    "#print(rounded_labels)\n",
    "#print(type(y_labels))\n",
    "#print(type(rounded_labels))"
   ]
  },
  {
   "cell_type": "code",
   "execution_count": null,
   "metadata": {},
   "outputs": [],
   "source": [
    "#acc = accuracy_score(rounded_labels,y_labels)#-----------------------------FInding accuracy\n",
    "#print(\"Accuracy is\", + acc*100, \"%\")\n",
    "#end = time.time()\n",
    "#print(\"Time elapsed\",end - start)"
   ]
  },
  {
   "cell_type": "code",
   "execution_count": null,
   "metadata": {},
   "outputs": [],
   "source": []
  },
  {
   "cell_type": "code",
   "execution_count": null,
   "metadata": {},
   "outputs": [],
   "source": []
  },
  {
   "cell_type": "code",
   "execution_count": null,
   "metadata": {},
   "outputs": [],
   "source": []
  },
  {
   "cell_type": "code",
   "execution_count": null,
   "metadata": {},
   "outputs": [],
   "source": []
  }
 ],
 "metadata": {
  "kernelspec": {
   "display_name": "Python 3",
   "language": "python",
   "name": "python3"
  },
  "language_info": {
   "codemirror_mode": {
    "name": "ipython",
    "version": 3
   },
   "file_extension": ".py",
   "mimetype": "text/x-python",
   "name": "python",
   "nbconvert_exporter": "python",
   "pygments_lexer": "ipython3",
   "version": "3.7.4"
  }
 },
 "nbformat": 4,
 "nbformat_minor": 2
}
